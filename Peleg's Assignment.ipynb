{
 "cells": [
  {
   "cell_type": "code",
   "execution_count": 4,
   "id": "6509847d",
   "metadata": {
    "scrolled": true
   },
   "outputs": [
    {
     "data": {
      "text/plain": [
       "469"
      ]
     },
     "execution_count": 4,
     "metadata": {},
     "output_type": "execute_result"
    }
   ],
   "source": [
    "## How many different models can you identify\n",
    "import pandas as pd\n",
    "from user_agents import parse\n",
    "variable = pd.read_csv(r\"C:\\Users\\Peleg\\Desktop\\Assignment\\data.csv\")\n",
    "var = variable['user_agent']\n",
    "variable['Device Mode'] = var.apply(lambda ua: parse(str(ua)))\n",
    "variable['Device Mode'] = variable['Device Mode'].apply(lambda ua: ua.device.model)\n",
    "variable.drop_duplicates(subset =\"Device Mode\", keep = False, inplace = True)\n",
    "len(variable['Device Mode'])\n",
    "\n",
    "\n",
    "\n",
    "\n",
    "    \n"
   ]
  },
  {
   "cell_type": "code",
   "execution_count": 1,
   "id": "6c530e08",
   "metadata": {},
   "outputs": [
    {
     "data": {
      "text/plain": [
       "<AxesSubplot:>"
      ]
     },
     "execution_count": 1,
     "metadata": {},
     "output_type": "execute_result"
    },
    {
     "data": {
      "image/png": "[encoded data removed]",
      "text/plain": [
       "<Figure size 432x288 with 1 Axes>"
      ]
     },
     "metadata": {
      "needs_background": "light"
     },
     "output_type": "display_data"
    }
   ],
   "source": [
    "## What is the most popular model you can find\n",
    "import pandas as pd\n",
    "from user_agents import parse\n",
    "import matplotlib.pyplot as plt\n",
    "variable = pd.read_csv(r\"C:\\Users\\Peleg\\Desktop\\Assignment\\data.csv\")\n",
    "variable.drop_duplicates(subset =\"mac\", keep = False, inplace = True)\n",
    "var = variable['user_agent']\n",
    "variable['Device Mode'] = var.apply(lambda ua: parse(str(ua)))\n",
    "variable['Device Mode'] = variable['Device Mode'].apply(lambda ua: ua.device.model)\n",
    "variable['Device Mode'].value_counts().head(10).plot.bar()\n",
    "\n",
    "\n",
    "\n"
   ]
  },
  {
   "cell_type": "code",
   "execution_count": 5,
   "id": "2e75fd38",
   "metadata": {},
   "outputs": [
    {
     "data": {
      "text/plain": [
       "Smartphone       2474\n",
       "iOS-Device       1872\n",
       "Desktop          1035\n",
       "Mac               796\n",
       "iPhone            648\n",
       "PlayStation 4     412\n",
       "SM-A105F          261\n",
       "WebOS             235\n",
       "SM-G975F          235\n",
       "iPhone12,1        223\n",
       "Name: Device Mode, dtype: int64"
      ]
     },
     "execution_count": 5,
     "metadata": {},
     "output_type": "execute_result"
    }
   ],
   "source": [
    "## What is the most popular model you can find\n",
    "import pandas as pd\n",
    "from user_agents import parse\n",
    "import matplotlib.pyplot as plt\n",
    "variable = pd.read_csv(r\"C:\\Users\\Peleg\\Desktop\\Assignment\\data.csv\")\n",
    "variable.drop_duplicates(subset =\"mac\", keep = False, inplace = True)\n",
    "var = variable['user_agent']\n",
    "variable['Device Mode'] = var.apply(lambda ua: parse(str(ua)))\n",
    "variable['Device Mode'] = variable['Device Mode'].apply(lambda ua: ua.device.model)\n",
    "variable['Device Mode'].value_counts().head(10)"
   ]
  },
  {
   "cell_type": "code",
   "execution_count": null,
   "id": "0333e94c",
   "metadata": {},
   "outputs": [],
   "source": []
  }
 ],
 "metadata": {
  "kernelspec": {
   "display_name": "Python 3 (ipykernel)",
   "language": "python",
   "name": "python3"
  },
  "language_info": {
   "codemirror_mode": {
    "name": "ipython",
    "version": 3
   },
   "file_extension": ".py",
   "mimetype": "text/x-python",
   "name": "python",
   "nbconvert_exporter": "python",
   "pygments_lexer": "ipython3",
   "version": "3.10.0"
  }
 },
 "nbformat": 4,
 "nbformat_minor": 5
}
